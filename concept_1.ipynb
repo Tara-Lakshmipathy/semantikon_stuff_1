{
 "cells": [
  {
   "cell_type": "code",
   "execution_count": 1,
   "id": "27fa4f44-6de2-4f49-ab8f-60bc67bf2aa7",
   "metadata": {},
   "outputs": [],
   "source": [
    "from semantics import onto\n",
    "import pyiron_nodes as pn\n",
    "from pyiron_workflow import Workflow\n",
    "from pyironflow.pyironflow import PyironFlow, GUILayout"
   ]
  },
  {
   "cell_type": "markdown",
   "id": "7f417f10-0025-465a-88a1-e2280f3f14d4",
   "metadata": {},
   "source": [
    "Press \"Load Workflow\" after executing the following cell.</br>\n",
    "Change the numbers in gui_layout to fit your screen. </br>\n",
    "Click on a node and press \"Run\" to execute"
   ]
  },
  {
   "cell_type": "code",
   "execution_count": 2,
   "id": "e40ce7d5-8530-4556-a0aa-849478bf1817",
   "metadata": {},
   "outputs": [
    {
     "data": {
      "application/vnd.jupyter.widget-view+json": {
       "model_id": "e9573017d8cb484eb880a8d7d2bbaa3e",
       "version_major": 2,
       "version_minor": 0
      },
      "text/plain": [
       "HBox(children=(Accordion(children=(VBox(children=(Button(button_style='info', description='Refresh', style=But…"
      ]
     },
     "execution_count": 2,
     "metadata": {},
     "output_type": "execute_result"
    }
   ],
   "source": [
    "wf = Workflow(\"concept_dict_wf\")\n",
    "gui_layout = GUILayout()\n",
    "gui_layout.flow_widget_height = 1100\n",
    "gui_layout.flow_widget_width = 1650\n",
    "gui_layout.output_widget_width = 600\n",
    "pf = PyironFlow([wf], root_path=\"pyiron_nodes\", gui_layout=gui_layout)\n",
    "pf.gui"
   ]
  },
  {
   "cell_type": "code",
   "execution_count": null,
   "id": "7b02788c-58b1-4767-883a-7b690afd18c7",
   "metadata": {},
   "outputs": [],
   "source": []
  }
 ],
 "metadata": {
  "kernelspec": {
   "display_name": "Python 3 (ipykernel)",
   "language": "python",
   "name": "python3"
  },
  "language_info": {
   "codemirror_mode": {
    "name": "ipython",
    "version": 3
   },
   "file_extension": ".py",
   "mimetype": "text/x-python",
   "name": "python",
   "nbconvert_exporter": "python",
   "pygments_lexer": "ipython3",
   "version": "3.12.2"
  }
 },
 "nbformat": 4,
 "nbformat_minor": 5
}
